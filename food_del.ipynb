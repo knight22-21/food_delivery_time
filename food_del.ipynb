{
 "cells": [
  {
   "cell_type": "code",
   "execution_count": null,
   "id": "c78d9b5a-8068-4629-ba44-e764cc28f0a1",
   "metadata": {},
   "outputs": [],
   "source": [
    "import pandas as pd\n",
    "import numpy as np\n",
    "import plotly.express as px"
   ]
  },
  {
   "cell_type": "code",
   "execution_count": null,
   "id": "495de5b4-7391-49bf-950d-ed424b863f4c",
   "metadata": {},
   "outputs": [],
   "source": [
    "data = pd.read_csv(\"deliverytime.txt\")\n",
    "print(data.head())"
   ]
  },
  {
   "cell_type": "markdown",
   "id": "ff54085d-1613-4f30-94b6-df5550a5a59a",
   "metadata": {},
   "source": [
    "# Look at the column insights"
   ]
  },
  {
   "cell_type": "code",
   "execution_count": null,
   "id": "6faca7ec-a66b-4c2c-97f7-d25d8b8648c7",
   "metadata": {},
   "outputs": [],
   "source": [
    "data.info()"
   ]
  },
  {
   "cell_type": "markdown",
   "id": "bf0ce96e-97ec-4a9e-bd55-604bf7685800",
   "metadata": {},
   "source": [
    "# Null values"
   ]
  },
  {
   "cell_type": "code",
   "execution_count": null,
   "id": "6d2e8e9f-ada5-4d30-9f4e-e17881cf8c82",
   "metadata": {},
   "outputs": [],
   "source": [
    "data.isnull().sum()"
   ]
  },
  {
   "cell_type": "markdown",
   "id": "ae83b7ac-69c0-44dd-b8c3-5a5730e988da",
   "metadata": {},
   "source": [
    "To find the distance between the restaurant and the delivery location we are using haversine formula."
   ]
  },
  {
   "cell_type": "code",
   "execution_count": null,
   "id": "485c1b3f-1161-4784-9e24-cd14824c13f4",
   "metadata": {},
   "outputs": [],
   "source": [
    "# Set the earth's radius (in kilometers)\n",
    "R = 6371\n",
    "\n",
    "# Convert degrees to radians\n",
    "def deg_to_rad(degrees):\n",
    "    return degrees * (np.pi/180)\n",
    "\n",
    "# Function to calculate the distance between two points using the haversine formula\n",
    "def distcalculate(lat1, lon1, lat2, lon2):\n",
    "    d_lat = deg_to_rad(lat2-lat1)\n",
    "    d_lon = deg_to_rad(lon2-lon1)\n",
    "    a = np.sin(d_lat/2)**2 + np.cos(deg_to_rad(lat1)) * np.cos(deg_to_rad(lat2)) * np.sin(d_lon/2)**2\n",
    "    c = 2 * np.arctan2(np.sqrt(a), np.sqrt(1-a))\n",
    "    return R * c\n",
    "  \n",
    "# Calculate the distance between each pair of points\n",
    "data['distance'] = np.nan\n",
    "\n",
    "for i in range(len(data)):\n",
    "    data.loc[i, 'distance'] = distcalculate(data.loc[i, 'Restaurant_latitude'], \n",
    "                                        data.loc[i, 'Restaurant_longitude'], \n",
    "                                        data.loc[i, 'Delivery_location_latitude'], \n",
    "                                        data.loc[i, 'Delivery_location_longitude'])"
   ]
  },
  {
   "cell_type": "code",
   "execution_count": null,
   "id": "7586c572-e21c-4ab7-84e9-6db994018152",
   "metadata": {},
   "outputs": [],
   "source": [
    "print(data.head())"
   ]
  },
  {
   "cell_type": "markdown",
   "id": "d3d91599-38b0-4ea2-ac01-27e57632e343",
   "metadata": {},
   "source": [
    "# Data Exploration"
   ]
  },
  {
   "cell_type": "code",
   "execution_count": null,
   "id": "9d5d6725-fc4f-4a72-925a-f8c5362098d9",
   "metadata": {},
   "outputs": [],
   "source": [
    "figure = px.scatter(data_frame = data, \n",
    "                    x=\"distance\",\n",
    "                    y=\"Time_taken(min)\", \n",
    "                    size=\"Time_taken(min)\", \n",
    "                    trendline=\"ols\", \n",
    "                    title = \"Relationship Between Distance and Time Taken\")\n",
    "figure.show()"
   ]
  },
  {
   "cell_type": "markdown",
   "id": "dfb68f79-76e5-415f-9bb1-c3bcc058ccf9",
   "metadata": {},
   "source": [
    "Relationship between the distance and time taken to deliver the food\n",
    "\n",
    "There is a consistent relationship between the time taken and the distance travelled to deliver the food. It means that most delivery partners deliver food within 25-30 minutes, regardless of distance."
   ]
  },
  {
   "cell_type": "code",
   "execution_count": null,
   "id": "78d517aa-9269-4932-9aab-1d348bc305e1",
   "metadata": {},
   "outputs": [],
   "source": [
    "figure = px.scatter(data_frame = data, \n",
    "                    x=\"Delivery_person_Age\",\n",
    "                    y=\"Time_taken(min)\", \n",
    "                    size=\"Time_taken(min)\", \n",
    "                    color = \"distance\",\n",
    "                    trendline=\"ols\", \n",
    "                    title = \"Relationship Between Time Taken and Age\")\n",
    "figure.show()"
   ]
  },
  {
   "cell_type": "markdown",
   "id": "93a3e070-de33-4197-aedb-327270d7390c",
   "metadata": {},
   "source": [
    "Relationship between the time taken to deliver the food and the age of the delivery partner.\n",
    "\n",
    "There is a linear relationship between the time taken to deliver the food and the age of the delivery partner. It means young delivery partners take less time to deliver the food compared to the elder partners."
   ]
  },
  {
   "cell_type": "code",
   "execution_count": null,
   "id": "c73f01b9-fef4-4f73-9a0c-adabc12f9357",
   "metadata": {},
   "outputs": [],
   "source": [
    "figure = px.scatter(data_frame = data, \n",
    "                    x=\"Delivery_person_Ratings\",\n",
    "                    y=\"Time_taken(min)\", \n",
    "                    size=\"Time_taken(min)\", \n",
    "                    color = \"distance\",\n",
    "                    trendline=\"ols\", \n",
    "                    title = \"Relationship Between Time Taken and Ratings\")\n",
    "figure.show()"
   ]
  },
  {
   "cell_type": "markdown",
   "id": "c4cd6a4d-23d2-42ab-ad6c-9c37987a6cc6",
   "metadata": {},
   "source": [
    "Relationship between the time taken to deliver the food and the ratings of the delivery partner.\n",
    "\n",
    "There is an inverse linear relationship between the time taken to deliver the food and the ratings of the delivery partner. It means delivery partners with higher ratings take less time to deliver the food compared to partners with low ratings."
   ]
  },
  {
   "cell_type": "code",
   "execution_count": null,
   "id": "653e3913-12a0-42bd-97e6-c9337ef41651",
   "metadata": {},
   "outputs": [],
   "source": [
    "fig = px.box(data, \n",
    "             x=\"Type_of_vehicle\",\n",
    "             y=\"Time_taken(min)\", \n",
    "             color=\"Type_of_order\")\n",
    "fig.show()"
   ]
  },
  {
   "cell_type": "markdown",
   "id": "4b9521eb-9706-4a85-ad50-0e78d1ed5a1b",
   "metadata": {},
   "source": [
    "Relationship betweem type of food ordered by the customer and the type of vehicle used by the delivery partner affects the delivery time or not.\n",
    "\n",
    "So there is not much difference between the time taken by delivery partners depending on the vehicle they are driving and the type of food they are delivering."
   ]
  },
  {
   "cell_type": "markdown",
   "id": "4c1ec0ae-ee75-4a3e-86fd-8da843d15441",
   "metadata": {},
   "source": [
    "So the features that contribute most to the food delivery time based on our analysis are:\n",
    "\n",
    "-> Age of the delivery partner\n",
    "\n",
    "-> Ratings of the delivery partner\n",
    "\n",
    "-> Distance between the restaurant and the delivery location"
   ]
  },
  {
   "cell_type": "code",
   "execution_count": null,
   "id": "609fa3c0-c850-4cc7-a01e-bca31656da6a",
   "metadata": {},
   "outputs": [],
   "source": [
    "#splitting data\n",
    "from sklearn.model_selection import train_test_split\n",
    "x = np.array(data[[\"Delivery_person_Age\", \n",
    "                   \"Delivery_person_Ratings\", \n",
    "                   \"distance\"]])\n",
    "y = np.array(data[[\"Time_taken(min)\"]])\n",
    "xtrain, xtest, ytrain, ytest = train_test_split(x, y, \n",
    "                                                test_size=0.10, \n",
    "                                                random_state=42)\n"
   ]
  },
  {
   "cell_type": "code",
   "execution_count": null,
   "id": "a5402565-4445-4d89-9f2f-08fe5bb26704",
   "metadata": {},
   "outputs": [],
   "source": [
    "# creating the LSTM neural network model\n",
    "from keras.models import Sequential\n",
    "from keras.layers import Dense, LSTM\n",
    "model = Sequential()\n",
    "model.add(LSTM(128, return_sequences=True, input_shape= (xtrain.shape[1], 1)))\n",
    "model.add(LSTM(128, return_sequences=True))\n",
    "model.add(LSTM(128, return_sequences=False))\n",
    "model.add(Dense(25))\n",
    "model.add(Dense(1))\n",
    "model.summary()"
   ]
  },
  {
   "cell_type": "code",
   "execution_count": null,
   "id": "c1cd3682-4404-4d7d-96f2-9c27c345bc86",
   "metadata": {},
   "outputs": [],
   "source": [
    "# training the model\n",
    "model.compile(optimizer='adam', loss='mean_squared_error')\n",
    "model.fit(xtrain, ytrain, batch_size=1, epochs=25)"
   ]
  },
  {
   "cell_type": "code",
   "execution_count": null,
   "id": "fda2f106-b274-416f-a402-a40c369f5d16",
   "metadata": {},
   "outputs": [],
   "source": [
    "model.save(\"lstm_model.h5\")\n",
    "print(\"Model saved successfully!\")"
   ]
  },
  {
   "cell_type": "code",
   "execution_count": null,
   "id": "bfe35044-77d4-4acf-a5d7-c9426bf1cb1b",
   "metadata": {},
   "outputs": [],
   "source": [
    "print(\"Food Delivery Time Prediction\")\n",
    "a = int(input(\"Age of Delivery Partner: \"))\n",
    "b = float(input(\"Ratings of Previous Deliveries: \"))\n",
    "c = int(input(\"Total Distance: \"))\n",
    "\n",
    "features = np.array([[a, b, c]])\n",
    "print(\"Predicted Delivery Time in Minutes = \", model.predict(features))"
   ]
  },
  {
   "cell_type": "code",
   "execution_count": null,
   "id": "5b419b89-132c-4981-a7e7-8ed4a33dd6d0",
   "metadata": {},
   "outputs": [],
   "source": []
  },
  {
   "cell_type": "code",
   "execution_count": null,
   "id": "6c3bf0f1-aecb-4101-8879-f6569bc57bf0",
   "metadata": {},
   "outputs": [],
   "source": []
  }
 ],
 "metadata": {
  "kernelspec": {
   "display_name": "Python [conda env:base] *",
   "language": "python",
   "name": "conda-base-py"
  },
  "language_info": {
   "codemirror_mode": {
    "name": "ipython",
    "version": 3
   },
   "file_extension": ".py",
   "mimetype": "text/x-python",
   "name": "python",
   "nbconvert_exporter": "python",
   "pygments_lexer": "ipython3",
   "version": "3.11.11"
  }
 },
 "nbformat": 4,
 "nbformat_minor": 5
}
